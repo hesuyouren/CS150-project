{
 "cells": [
  {
   "cell_type": "markdown",
   "metadata": {},
   "source": [
    "**A data science experiment using data from the KDD 2010 Educational Data Mining Challenge**\n",
    "\n",
    "The aim of this IPython Notebook is to give you a sense of the dataset.\n"
   ]
  },
  {
   "cell_type": "code",
   "execution_count": 1,
   "metadata": {},
   "outputs": [],
   "source": [
    "import numpy as np\n",
    "import pandas as pd\n",
    "import matplotlib.pyplot as plt\n",
    "import sklearn\n",
    "\n",
    "# pyspark\n",
    "import pyspark\n",
    "sc = pyspark.SparkContext()\n",
    "sql = pyspark.sql.SQLContext(sc)"
   ]
  },
  {
   "cell_type": "code",
   "execution_count": 2,
   "metadata": {
    "scrolled": true
   },
   "outputs": [],
   "source": [
    "from pyspark.ml.linalg import Vectors\n",
    "def preprocessing(row):\n",
    "    sid = row[\"Anon Student Id\"]\n",
    "    unit, section = row[\"Problem Hierarchy\"].replace(\"Unit\", \"\").replace(\"Section\", \"\").replace(\",\", \"\").split()\n",
    "    problem = row[\"Problem Name\"]\n",
    "    step = row[\"Step Name\"]\n",
    "    if '=' in step or '+' in step or '-' in step or '*' in step or '/' in step or '^' in step:\n",
    "        step = \"BasicCalculation\"\n",
    "    kcs = row[\"KC(Default)\"].replace(\"~~\", \" \").replace(\"{\", \" \").replace(\"}\", \" \").replace(\";\", \" \").replace(\":\", \" \").replace(\"[\", \" \").replace(\"]\", \" \")\\\n",
    "          if row[\"KC(Default)\"] else None\n",
    "    opps = row[\"Opportunity(Default)\"].split(\"~~\") if row[\"Opportunity(Default)\"] else None\n",
    "    if opps:\n",
    "        opp_total = 0\n",
    "        for opp in opps:\n",
    "            opp_total += int(opp)\n",
    "        opps = opp_total / len(opps)\n",
    "    view = row[\"Problem View\"]\n",
    "    cfa = row[\"Correct First Attempt\"]\n",
    "    return sid, unit, section, problem, step, view, kcs, opps, cfa\n",
    "def postprocessing(point):\n",
    "    feature = []\n",
    "    for c in [\"sid\", \"unit\", \"section\", \"problem\", \"step\", \"view\", \"opps\"]:\n",
    "        if c in uniqueFeatures:\n",
    "            if point[c] in uniqueFeatures[c]:\n",
    "                feature.extend(uniqueFeatures[c][point[c]])\n",
    "            else:\n",
    "                feature.extend(uniqueFeatures[c][\"<unknown>\"])\n",
    "        else:\n",
    "            feature.append(point[c])\n",
    "    if point[\"kcs\"]:\n",
    "        feature.extend(vectorizer.transform([point[\"kcs\"]]).toarray().flatten())\n",
    "    else:\n",
    "        feature.extend(vectorizer.transform([\"<unknown>\"]).toarray().flatten())\n",
    "    return Vectors.dense(feature), point[\"cfa\"]"
   ]
  },
  {
   "cell_type": "code",
   "execution_count": 3,
   "metadata": {},
   "outputs": [],
   "source": [
    "# Get the data\n",
    "traindata = sql.read.csv(\"data/train.csv\", sep='\\t', header=True, inferSchema=True).cache()\n",
    "testdata = sql.read.csv(\"data/test.csv\", sep='\\t', header=True, inferSchema=True).cache()"
   ]
  },
  {
   "cell_type": "code",
   "execution_count": 4,
   "metadata": {},
   "outputs": [],
   "source": [
    "traindata = traindata.rdd.map(preprocessing).toDF()\\\n",
    "                     .selectExpr(\"_1 as sid\", \"_2 as unit\", \"_3 as section\",\n",
    "                                 \"_4 as problem\", \"_5 as step\", \"_6 as view\",\n",
    "                                 \"_7 as kcs\", \"_8 as opps\", \"_9 as cfa\")\\\n",
    "                     .fillna({\"kcs\":\"<unknown>\", \"opps\":0})\n",
    "    \n",
    "testdata = testdata.rdd.map(preprocessing).toDF()\\\n",
    "                   .selectExpr(\"_1 as sid\", \"_2 as unit\", \"_3 as section\",\n",
    "                               \"_4 as problem\", \"_5 as step\", \"_6 as view\",\n",
    "                               \"_7 as kcs\", \"_8 as opps\", \"_9 as cfa\")\\\n",
    "                   .fillna({\"kcs\":\"<unknown>\", \"opps\":0})"
   ]
  },
  {
   "cell_type": "code",
   "execution_count": 5,
   "metadata": {},
   "outputs": [],
   "source": [
    "from sklearn.feature_extraction.text import CountVectorizer\n",
    "vectorizer = CountVectorizer(decode_error='ignore', token_pattern=r'(?u)\\b[\\w/*+-=^]+\\b')\n",
    "vectorizer.fit([row.kcs for row in traindata.select(\"kcs\").distinct().collect()])\n",
    "\n",
    "featureCol = [\"sid\", \"unit\", \"section\", \"problem\", \"step\"]\n",
    "traindata_cache = traindata.collect()\n",
    "uniqueFeatures = {}\n",
    "\n",
    "for feature in featureCol:\n",
    "    uniqueFeatures[feature] = {}\n",
    "    index = 0\n",
    "    defaultValue = 0\n",
    "    featureList = np.unique(traindata.select(feature).collect())\n",
    "    \n",
    "    for uniqueFeature in featureList:\n",
    "        numerator, denominator = 0, 0\n",
    "        for row in traindata_cache:\n",
    "            if row[feature] == uniqueFeature:\n",
    "                denominator += 1\n",
    "                if row[\"cfa\"] == 1:\n",
    "                    numerator += 1\n",
    "        cfaRate = numerator / denominator\n",
    "        uniqueFeatures[feature][uniqueFeature] = (index, cfaRate)\n",
    "        index += 1\n",
    "        defaultValue += cfaRate\n",
    "        \n",
    "    defaultValue /= index\n",
    "    uniqueFeatures[feature][\"<unknown>\"] = (index, defaultValue)"
   ]
  },
  {
   "cell_type": "code",
   "execution_count": 6,
   "metadata": {},
   "outputs": [],
   "source": [
    "traindata = traindata.rdd.map(postprocessing).toDF().selectExpr(\"_1 as feature\", \"_2 as cfa\")\n",
    "traindata = traindata.where(traindata[\"cfa\"].isNotNull())\n",
    "testdata = testdata.rdd.map(postprocessing).toDF().selectExpr(\"_1 as feature\", \"_2 as cfa\")\n",
    "testdata = testdata.where(testdata[\"cfa\"].isNotNull())"
   ]
  },
  {
   "cell_type": "code",
   "execution_count": 7,
   "metadata": {},
   "outputs": [],
   "source": [
    "X_train = np.array(traindata.select(\"feature\").collect()).reshape(-1, 203)\n",
    "y_train = np.array(traindata.select(\"cfa\").collect()).flatten()\n",
    "X_test = np.array(testdata.select(\"feature\").collect()).reshape(-1, 203)\n",
    "y_test = np.array(testdata.select(\"cfa\").collect()).flatten()"
   ]
  },
  {
   "cell_type": "code",
   "execution_count": 8,
   "metadata": {},
   "outputs": [],
   "source": [
    "rmse = lambda model: np.sqrt(np.mean((model.predict(X_test) - y_test) ** 2))\n",
    "acc = lambda model: 1 - np.mean(np.abs((model.predict(X_test) - y_test)))"
   ]
  },
  {
   "cell_type": "markdown",
   "metadata": {},
   "source": [
    "#### LogisticRegression"
   ]
  },
  {
   "cell_type": "code",
   "execution_count": 9,
   "metadata": {},
   "outputs": [
    {
     "name": "stderr",
     "output_type": "stream",
     "text": [
      "/home/tony/project-injoker/.venv/lib/python3.6/site-packages/sklearn/linear_model/logistic.py:432: FutureWarning: Default solver will be changed to 'lbfgs' in 0.22. Specify a solver to silence this warning.\n",
      "  FutureWarning)\n"
     ]
    },
    {
     "data": {
      "text/plain": [
       "(0.4332293707583636, 0.8123123123123124)"
      ]
     },
     "execution_count": 9,
     "metadata": {},
     "output_type": "execute_result"
    }
   ],
   "source": [
    "from sklearn.linear_model import LogisticRegression\n",
    "lgtr = LogisticRegression()\n",
    "lgtr.fit(X_train, y_train)\n",
    "rmse(lgtr), acc(lgtr)"
   ]
  },
  {
   "cell_type": "markdown",
   "metadata": {},
   "source": [
    "#### LinearRegression"
   ]
  },
  {
   "cell_type": "code",
   "execution_count": 10,
   "metadata": {},
   "outputs": [
    {
     "data": {
      "text/plain": [
       "0.3656166731527155"
      ]
     },
     "execution_count": 10,
     "metadata": {},
     "output_type": "execute_result"
    }
   ],
   "source": [
    "from sklearn.linear_model import LinearRegression\n",
    "lr = LinearRegression(normalize=True)\n",
    "lr.fit(X_train, y_train)\n",
    "rmse(lr)"
   ]
  },
  {
   "cell_type": "markdown",
   "metadata": {},
   "source": [
    "#### NeuralNet"
   ]
  },
  {
   "cell_type": "code",
   "execution_count": 11,
   "metadata": {},
   "outputs": [
    {
     "data": {
      "text/plain": [
       "0.3618360408148614"
      ]
     },
     "execution_count": 11,
     "metadata": {},
     "output_type": "execute_result"
    }
   ],
   "source": [
    "from sklearn.neural_network import MLPRegressor\n",
    "mlpr = MLPRegressor(hidden_layer_sizes=(100,), activation='logistic', solver='adam', learning_rate='invscaling')\n",
    "mlpr.fit(X_train, y_train)\n",
    "rmse(mlpr)"
   ]
  },
  {
   "cell_type": "markdown",
   "metadata": {},
   "source": [
    "#### K-NearestNeighbor"
   ]
  },
  {
   "cell_type": "code",
   "execution_count": 12,
   "metadata": {},
   "outputs": [
    {
     "data": {
      "text/plain": [
       "Text(0, 0.5, 'RMSE')"
      ]
     },
     "execution_count": 12,
     "metadata": {},
     "output_type": "execute_result"
    },
    {
     "data": {
      "image/png": "[encoded data removed]",
      "text/plain": [
       "<Figure size 432x288 with 1 Axes>"
      ]
     },
     "metadata": {
      "needs_background": "light"
     },
     "output_type": "display_data"
    }
   ],
   "source": [
    "from sklearn.neighbors import KNeighborsClassifier\n",
    "loss = []\n",
    "for i in range(1, 21):\n",
    "    knc = KNeighborsClassifier(n_neighbors=i, n_jobs=-1)\n",
    "    knc.fit(X_train, y_train)\n",
    "    loss.append(rmse(knc))\n",
    "plt.plot(range(1, 21), loss)\n",
    "plt.xlabel(\"N_neighbors\")\n",
    "plt.ylabel(\"RMSE\")"
   ]
  },
  {
   "cell_type": "code",
   "execution_count": 14,
   "metadata": {},
   "outputs": [
    {
     "data": {
      "text/plain": [
       "(0.45188959293637665, 0.7957957957957957)"
      ]
     },
     "execution_count": 14,
     "metadata": {},
     "output_type": "execute_result"
    }
   ],
   "source": [
    "from sklearn.neighbors import KNeighborsClassifier\n",
    "knc = KNeighborsClassifier(n_neighbors=16, n_jobs=-1)\n",
    "knc.fit(X_train, y_train)\n",
    "rmse(knc), acc(knc)"
   ]
  },
  {
   "cell_type": "code",
   "execution_count": 15,
   "metadata": {},
   "outputs": [
    {
     "data": {
      "text/plain": [
       "Text(0, 0.5, 'RMSE')"
      ]
     },
     "execution_count": 15,
     "metadata": {},
     "output_type": "execute_result"
    },
    {
     "data": {
      "image/png": "[encoded data removed]",
      "text/plain": [
       "<Figure size 432x288 with 1 Axes>"
      ]
     },
     "metadata": {
      "needs_background": "light"
     },
     "output_type": "display_data"
    }
   ],
   "source": [
    "from sklearn.neighbors import KNeighborsRegressor\n",
    "loss = []\n",
    "for i in range(1, 21):\n",
    "    knr = KNeighborsRegressor(n_neighbors=i, n_jobs=-1)\n",
    "    knr.fit(X_train, y_train)\n",
    "    loss.append(rmse(knr))\n",
    "plt.plot(range(1, 21), loss)\n",
    "plt.xlabel(\"N_neighbors\")\n",
    "plt.ylabel(\"RMSE\")"
   ]
  },
  {
   "cell_type": "code",
   "execution_count": 16,
   "metadata": {},
   "outputs": [
    {
     "data": {
      "text/plain": [
       "0.38410187841639487"
      ]
     },
     "execution_count": 16,
     "metadata": {},
     "output_type": "execute_result"
    }
   ],
   "source": [
    "from sklearn.neighbors import KNeighborsRegressor\n",
    "knr = KNeighborsRegressor(n_neighbors=16, n_jobs=-1)\n",
    "knr.fit(X_train, y_train)\n",
    "rmse(knr)"
   ]
  },
  {
   "cell_type": "markdown",
   "metadata": {},
   "source": [
    "#### DecisionTreeRegressor"
   ]
  },
  {
   "cell_type": "code",
   "execution_count": 18,
   "metadata": {},
   "outputs": [
    {
     "data": {
      "text/plain": [
       "Text(0, 0.5, 'RMSE')"
      ]
     },
     "execution_count": 18,
     "metadata": {},
     "output_type": "execute_result"
    },
    {
     "data": {
      "image/png": "[encoded data removed]",
      "text/plain": [
       "<Figure size 432x288 with 1 Axes>"
      ]
     },
     "metadata": {
      "needs_background": "light"
     },
     "output_type": "display_data"
    }
   ],
   "source": [
    "from sklearn.tree import DecisionTreeRegressor\n",
    "loss = []\n",
    "for i in range(5, 16):\n",
    "    dtr = DecisionTreeRegressor(max_depth=i, presort=True)\n",
    "    dtr.fit(X_train, y_train)\n",
    "    loss.append(rmse(dtr))\n",
    "plt.plot(range(5, 16), loss)\n",
    "plt.xlabel(\"Max_depth\")\n",
    "plt.ylabel(\"RMSE\")"
   ]
  },
  {
   "cell_type": "code",
   "execution_count": 19,
   "metadata": {},
   "outputs": [
    {
     "data": {
      "text/plain": [
       "0.3542033785972317"
      ]
     },
     "execution_count": 19,
     "metadata": {},
     "output_type": "execute_result"
    }
   ],
   "source": [
    "from sklearn.tree import DecisionTreeRegressor\n",
    "dtr = DecisionTreeRegressor(max_depth=9, presort=True)\n",
    "dtr.fit(X_train, y_train)\n",
    "rmse(dtr)"
   ]
  },
  {
   "cell_type": "markdown",
   "metadata": {},
   "source": [
    "#### RandomForest"
   ]
  },
  {
   "cell_type": "code",
   "execution_count": 23,
   "metadata": {},
   "outputs": [
    {
     "data": {
      "text/plain": [
       "Text(0, 0.5, 'RMSE')"
      ]
     },
     "execution_count": 23,
     "metadata": {},
     "output_type": "execute_result"
    },
    {
     "data": {
      "image/png": "[encoded data removed]",
      "text/plain": [
       "<Figure size 432x288 with 1 Axes>"
      ]
     },
     "metadata": {
      "needs_background": "light"
     },
     "output_type": "display_data"
    }
   ],
   "source": [
    "from sklearn.ensemble import RandomForestRegressor\n",
    "# loss = []\n",
    "for i in range(1, 16):\n",
    "    rfr = RandomForestRegressor(max_depth=9, n_estimators=i, n_jobs=-1)\n",
    "    rfr.fit(X_train, y_train)\n",
    "    loss.append(rmse(rfr))\n",
    "plt.plot(range(1, 16), loss)\n",
    "plt.xlabel(\"N_estimators\")\n",
    "plt.ylabel(\"RMSE\")"
   ]
  },
  {
   "cell_type": "code",
   "execution_count": 26,
   "metadata": {},
   "outputs": [
    {
     "data": {
      "text/plain": [
       "(0.4173417953838007, 0.8258258258258259)"
      ]
     },
     "execution_count": 26,
     "metadata": {},
     "output_type": "execute_result"
    }
   ],
   "source": [
    "from sklearn.ensemble import RandomForestClassifier\n",
    "rfc = RandomForestClassifier(max_depth=9, n_estimators=5, n_jobs=-1)\n",
    "rfc.fit(X_train, y_train)\n",
    "rmse(rfc), acc(rfc)"
   ]
  },
  {
   "cell_type": "code",
   "execution_count": 21,
   "metadata": {},
   "outputs": [
    {
     "data": {
      "text/plain": [
       "0.3534500736156388"
      ]
     },
     "execution_count": 21,
     "metadata": {},
     "output_type": "execute_result"
    }
   ],
   "source": [
    "from sklearn.ensemble import RandomForestRegressor\n",
    "rfr = RandomForestRegressor(max_depth=9, n_estimators=5, n_jobs=-1)\n",
    "rfr.fit(X_train, y_train)\n",
    "rmse(rfr)"
   ]
  },
  {
   "cell_type": "markdown",
   "metadata": {},
   "source": [
    "#### Fill test.csv"
   ]
  },
  {
   "cell_type": "code",
   "execution_count": 11,
   "metadata": {},
   "outputs": [],
   "source": [
    "testdata = sql.read.csv(\"data/test.csv\", sep='\\t', header=True, inferSchema=True).cache()\n",
    "pre = testdata.rdd.map(preprocessing).toDF()\\\n",
    "                   .selectExpr(\"_1 as sid\", \"_2 as unit\", \"_3 as section\",\n",
    "                               \"_4 as problem\", \"_5 as step\", \"_6 as view\",\n",
    "                               \"_7 as kcs\", \"_8 as opps\", \"_9 as cfa\")\\\n",
    "                   .fillna({\"kcs\":\"<unknown>\", \"opps\":0})\n",
    "post = pre.rdd.map(postprocessing).toDF().selectExpr(\"_1 as feature\", \"_2 as cfa\")\n",
    "X_target = np.array(post.select(\"feature\").collect()).reshape(-1, 203)\n",
    "y_target = np.array(post.select(\"cfa\").collect()).flatten()\n",
    "predicted = rfr.predict(X_target)\n",
    "for (i, y) in enumerate(y_target):\n",
    "    if y == None:\n",
    "        y_target[i] = predicted[i]\n",
    "\n",
    "testdata = testdata.toPandas()\n",
    "testdata[\"Correct First Attempt\"] = y_target\n",
    "testdata.to_csv(\"test.csv\", sep=\"\\t\", index=False)"
   ]
  },
  {
   "cell_type": "code",
   "execution_count": null,
   "metadata": {},
   "outputs": [],
   "source": []
  }
 ],
 "metadata": {
  "kernelspec": {
   "display_name": "Python 3",
   "language": "python",
   "name": "python3"
  },
  "language_info": {
   "codemirror_mode": {
    "name": "ipython",
    "version": 3
   },
   "file_extension": ".py",
   "mimetype": "text/x-python",
   "name": "python",
   "nbconvert_exporter": "python",
   "pygments_lexer": "ipython3",
   "version": "3.6.7"
  }
 },
 "nbformat": 4,
 "nbformat_minor": 1
}
